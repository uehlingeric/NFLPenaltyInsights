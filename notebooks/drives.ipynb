{
 "cells": [
  {
   "cell_type": "markdown",
   "metadata": {},
   "source": [
    "# Gradient Boosting Model for Drive Results Prediction\n",
    "\n",
    "This notebook outlines the steps to create and evaluate a Gradient Boosting Machine (GBM) model. The model predicts football drive outcomes based on penalties and other game conditions."
   ]
  },
  {
   "cell_type": "code",
   "execution_count": 44,
   "metadata": {},
   "outputs": [],
   "source": [
    "# Import necessary libraries\n",
    "import pandas as pd\n",
    "import numpy as np\n",
    "from sklearn.model_selection import train_test_split\n",
    "from sklearn.ensemble import GradientBoostingClassifier\n",
    "from sklearn.preprocessing import LabelEncoder\n",
    "from sklearn.metrics import classification_report"
   ]
  },
  {
   "cell_type": "markdown",
   "metadata": {},
   "source": [
    "## Load the Data\n",
    "\n",
    "The dataset includes details about football drives, such as penalties and yardage. We'll use a subset of this data to accelerate the training process."
   ]
  },
  {
   "cell_type": "code",
   "execution_count": 45,
   "metadata": {},
   "outputs": [
    {
     "data": {
      "text/html": [
       "<div>\n",
       "<style scoped>\n",
       "    .dataframe tbody tr th:only-of-type {\n",
       "        vertical-align: middle;\n",
       "    }\n",
       "\n",
       "    .dataframe tbody tr th {\n",
       "        vertical-align: top;\n",
       "    }\n",
       "\n",
       "    .dataframe thead th {\n",
       "        text-align: right;\n",
       "    }\n",
       "</style>\n",
       "<table border=\"1\" class=\"dataframe\">\n",
       "  <thead>\n",
       "    <tr style=\"text-align: right;\">\n",
       "      <th></th>\n",
       "      <th>game_id</th>\n",
       "      <th>team_id</th>\n",
       "      <th>num</th>\n",
       "      <th>quarter</th>\n",
       "      <th>time</th>\n",
       "      <th>los</th>\n",
       "      <th>plays</th>\n",
       "      <th>length</th>\n",
       "      <th>net_yds</th>\n",
       "      <th>result</th>\n",
       "      <th>...</th>\n",
       "      <th>Off_Illegal_Blindside_Block</th>\n",
       "      <th>Off_12_On-field</th>\n",
       "      <th>Off_Disqualification</th>\n",
       "      <th>Def_Too_Many_Men_on_Field</th>\n",
       "      <th>Def_Lowering_the_Head_to_Initiate_Contact</th>\n",
       "      <th>Off_Too_Many_Men_on_Field</th>\n",
       "      <th>total_off_pen</th>\n",
       "      <th>total_def_pen</th>\n",
       "      <th>total_off_pen_yards</th>\n",
       "      <th>total_def_pen_yards</th>\n",
       "    </tr>\n",
       "  </thead>\n",
       "  <tbody>\n",
       "    <tr>\n",
       "      <th>0</th>\n",
       "      <td>2009_1_TEN_PIT</td>\n",
       "      <td>PIT</td>\n",
       "      <td>1</td>\n",
       "      <td>1</td>\n",
       "      <td>15:00</td>\n",
       "      <td>58</td>\n",
       "      <td>3</td>\n",
       "      <td>1:44</td>\n",
       "      <td>2</td>\n",
       "      <td>Punt</td>\n",
       "      <td>...</td>\n",
       "      <td>0</td>\n",
       "      <td>0</td>\n",
       "      <td>0</td>\n",
       "      <td>0</td>\n",
       "      <td>0</td>\n",
       "      <td>0</td>\n",
       "      <td>0</td>\n",
       "      <td>0</td>\n",
       "      <td>0</td>\n",
       "      <td>0</td>\n",
       "    </tr>\n",
       "    <tr>\n",
       "      <th>1</th>\n",
       "      <td>2009_1_TEN_PIT</td>\n",
       "      <td>TEN</td>\n",
       "      <td>1</td>\n",
       "      <td>1</td>\n",
       "      <td>13:16</td>\n",
       "      <td>98</td>\n",
       "      <td>3</td>\n",
       "      <td>1:52</td>\n",
       "      <td>2</td>\n",
       "      <td>Punt</td>\n",
       "      <td>...</td>\n",
       "      <td>0</td>\n",
       "      <td>0</td>\n",
       "      <td>0</td>\n",
       "      <td>0</td>\n",
       "      <td>0</td>\n",
       "      <td>0</td>\n",
       "      <td>0</td>\n",
       "      <td>0</td>\n",
       "      <td>0</td>\n",
       "      <td>0</td>\n",
       "    </tr>\n",
       "    <tr>\n",
       "      <th>2</th>\n",
       "      <td>2009_1_TEN_PIT</td>\n",
       "      <td>PIT</td>\n",
       "      <td>2</td>\n",
       "      <td>1</td>\n",
       "      <td>11:24</td>\n",
       "      <td>43</td>\n",
       "      <td>5</td>\n",
       "      <td>3:04</td>\n",
       "      <td>2</td>\n",
       "      <td>Punt</td>\n",
       "      <td>...</td>\n",
       "      <td>0</td>\n",
       "      <td>0</td>\n",
       "      <td>0</td>\n",
       "      <td>0</td>\n",
       "      <td>0</td>\n",
       "      <td>0</td>\n",
       "      <td>0</td>\n",
       "      <td>0</td>\n",
       "      <td>0</td>\n",
       "      <td>0</td>\n",
       "    </tr>\n",
       "    <tr>\n",
       "      <th>3</th>\n",
       "      <td>2009_1_TEN_PIT</td>\n",
       "      <td>TEN</td>\n",
       "      <td>2</td>\n",
       "      <td>1</td>\n",
       "      <td>8:20</td>\n",
       "      <td>89</td>\n",
       "      <td>6</td>\n",
       "      <td>1:36</td>\n",
       "      <td>70</td>\n",
       "      <td>Missed FG</td>\n",
       "      <td>...</td>\n",
       "      <td>0</td>\n",
       "      <td>0</td>\n",
       "      <td>0</td>\n",
       "      <td>0</td>\n",
       "      <td>0</td>\n",
       "      <td>0</td>\n",
       "      <td>0</td>\n",
       "      <td>1</td>\n",
       "      <td>0</td>\n",
       "      <td>15</td>\n",
       "    </tr>\n",
       "    <tr>\n",
       "      <th>4</th>\n",
       "      <td>2009_1_TEN_PIT</td>\n",
       "      <td>PIT</td>\n",
       "      <td>3</td>\n",
       "      <td>1</td>\n",
       "      <td>6:44</td>\n",
       "      <td>73</td>\n",
       "      <td>3</td>\n",
       "      <td>1:55</td>\n",
       "      <td>-6</td>\n",
       "      <td>Punt</td>\n",
       "      <td>...</td>\n",
       "      <td>0</td>\n",
       "      <td>0</td>\n",
       "      <td>0</td>\n",
       "      <td>0</td>\n",
       "      <td>0</td>\n",
       "      <td>0</td>\n",
       "      <td>0</td>\n",
       "      <td>0</td>\n",
       "      <td>0</td>\n",
       "      <td>0</td>\n",
       "    </tr>\n",
       "  </tbody>\n",
       "</table>\n",
       "<p>5 rows × 64 columns</p>\n",
       "</div>"
      ],
      "text/plain": [
       "          game_id team_id  num  quarter   time  los  plays length  net_yds  \\\n",
       "0  2009_1_TEN_PIT     PIT    1        1  15:00   58      3   1:44        2   \n",
       "1  2009_1_TEN_PIT     TEN    1        1  13:16   98      3   1:52        2   \n",
       "2  2009_1_TEN_PIT     PIT    2        1  11:24   43      5   3:04        2   \n",
       "3  2009_1_TEN_PIT     TEN    2        1   8:20   89      6   1:36       70   \n",
       "4  2009_1_TEN_PIT     PIT    3        1   6:44   73      3   1:55       -6   \n",
       "\n",
       "      result  ... Off_Illegal_Blindside_Block Off_12_On-field  \\\n",
       "0       Punt  ...                           0               0   \n",
       "1       Punt  ...                           0               0   \n",
       "2       Punt  ...                           0               0   \n",
       "3  Missed FG  ...                           0               0   \n",
       "4       Punt  ...                           0               0   \n",
       "\n",
       "   Off_Disqualification  Def_Too_Many_Men_on_Field  \\\n",
       "0                     0                          0   \n",
       "1                     0                          0   \n",
       "2                     0                          0   \n",
       "3                     0                          0   \n",
       "4                     0                          0   \n",
       "\n",
       "   Def_Lowering_the_Head_to_Initiate_Contact  Off_Too_Many_Men_on_Field  \\\n",
       "0                                          0                          0   \n",
       "1                                          0                          0   \n",
       "2                                          0                          0   \n",
       "3                                          0                          0   \n",
       "4                                          0                          0   \n",
       "\n",
       "   total_off_pen  total_def_pen  total_off_pen_yards  total_def_pen_yards  \n",
       "0              0              0                    0                    0  \n",
       "1              0              0                    0                    0  \n",
       "2              0              0                    0                    0  \n",
       "3              0              1                    0                   15  \n",
       "4              0              0                    0                    0  \n",
       "\n",
       "[5 rows x 64 columns]"
      ]
     },
     "execution_count": 45,
     "metadata": {},
     "output_type": "execute_result"
    }
   ],
   "source": [
    "# Load the dataset\n",
    "data = pd.read_csv('../data/processed/drives.csv')\n",
    "data = data.drop(columns=['home_team', 'away_team', 'home_coach', 'away_coach'])\n",
    "\n",
    "data.head()"
   ]
  },
  {
   "cell_type": "markdown",
   "metadata": {},
   "source": [
    "## Prepare the Data"
   ]
  },
  {
   "cell_type": "code",
   "execution_count": 46,
   "metadata": {},
   "outputs": [],
   "source": [
    "# Function to convert \"HH:MM:SS\" to total seconds\n",
    "def time_to_seconds(time_str):\n",
    "    h, m, s = map(int, time_str.split(':'))\n",
    "    return h * 3600 + m * 60 + s\n",
    "\n",
    "# Apply the conversion to the 'time_left' column\n",
    "data['time_left_seconds'] = data['time_left'].apply(time_to_seconds)\n",
    "\n",
    "data['result'] = data['result'].apply(lambda x: x if x in ['Touchdown', 'Field Goal'] else 'Zero')\n",
    "\n",
    "# Select features and target\n",
    "features = data[['total_off_pen', 'total_def_pen', 'total_off_pen_yards', 'total_def_pen_yards', 'los', 'time_left_seconds']]\n",
    "target = data['result']\n",
    "\n",
    "# Encode the target variable\n",
    "le = LabelEncoder()\n",
    "target_encoded = le.fit_transform(target)\n",
    "\n",
    "# Split data into train and test sets\n",
    "X_train, X_test, y_train, y_test = train_test_split(features, target_encoded, test_size=0.3, random_state=42)"
   ]
  },
  {
   "cell_type": "markdown",
   "metadata": {},
   "source": [
    "## Model Training\n",
    "\n",
    "We utilize a Gradient Boosting Classifier to train our model on the football drive data."
   ]
  },
  {
   "cell_type": "code",
   "execution_count": 47,
   "metadata": {},
   "outputs": [
    {
     "name": "stdout",
     "output_type": "stream",
     "text": [
      "Classification Report:\n",
      "               precision    recall  f1-score   support\n",
      "\n",
      "  Field Goal       0.43      0.02      0.03      4034\n",
      "   Touchdown       0.54      0.21      0.30      5857\n",
      "        Zero       0.68      0.97      0.80     18001\n",
      "\n",
      "    accuracy                           0.67     27892\n",
      "   macro avg       0.55      0.40      0.38     27892\n",
      "weighted avg       0.62      0.67      0.58     27892\n",
      "\n",
      "\n",
      "Feature Importance:\n",
      "                Feature  Importance\n",
      "1        total_def_pen    0.429765\n",
      "4                  los    0.242568\n",
      "5    time_left_seconds    0.187329\n",
      "3  total_def_pen_yards    0.080356\n",
      "2  total_off_pen_yards    0.031086\n",
      "0        total_off_pen    0.028895\n"
     ]
    }
   ],
   "source": [
    "# Initialize the Gradient Boosting Classifier\n",
    "gbm_model = GradientBoostingClassifier(n_estimators=100, learning_rate=0.1, max_depth=3, random_state=42)\n",
    "\n",
    "# Train the model\n",
    "gbm_model.fit(X_train, y_train)\n",
    "\n",
    "# Predicting the test set results\n",
    "y_pred = gbm_model.predict(X_test)\n",
    "\n",
    "# Evaluate the model by specifying all labels known to the LabelEncoder\n",
    "classification_report_result = classification_report(y_test, y_pred, labels=np.arange(len(le.classes_)), target_names=le.classes_)\n",
    "print(\"Classification Report:\\n\", classification_report_result)\n",
    "\n",
    "# Extracting and printing the feature importance\n",
    "feature_importance = gbm_model.feature_importances_\n",
    "features_df = pd.DataFrame({'Feature': features.columns, 'Importance': feature_importance}).sort_values(by='Importance', ascending=False)\n",
    "print(\"\\nFeature Importance:\\n\", features_df)"
   ]
  },
  {
   "cell_type": "markdown",
   "metadata": {},
   "source": [
    "## Prediction Function\n",
    "\n",
    "Create a function that takes input features and returns the predicted drive result."
   ]
  },
  {
   "cell_type": "code",
   "execution_count": 48,
   "metadata": {},
   "outputs": [
    {
     "name": "stdout",
     "output_type": "stream",
     "text": [
      "Predicted Drive Result: Zero\n"
     ]
    }
   ],
   "source": [
    "def predict_drive_result(total_off_pen, total_def_pen, total_off_pen_yards, total_def_pen_yards, los, time_left_seconds):\n",
    "    input_features = pd.DataFrame([{\n",
    "        'total_off_pen': total_off_pen, \n",
    "        'total_def_pen': total_def_pen, \n",
    "        'total_off_pen_yards': total_off_pen_yards, \n",
    "        'total_def_pen_yards': total_def_pen_yards, \n",
    "        'los': los, \n",
    "        'time_left_seconds': time_left_seconds\n",
    "    }])\n",
    "    prediction = gbm_model.predict(input_features)\n",
    "    return le.inverse_transform(prediction)[0]\n",
    "\n",
    "# Example usage of the prediction function\n",
    "result = predict_drive_result(2, 1, 15, 10, 50, 900)\n",
    "print(f\"Predicted Drive Result: {result}\")"
   ]
  },
  {
   "cell_type": "markdown",
   "metadata": {},
   "source": [
    "## Preparing Data for Points Prediction\n",
    "\n",
    "In this section, we transform the `result` column to reflect the points scored for each type of drive outcome: 7 points for a Touchdown, 3 points for a Field Goal, and 0 points for all other outcomes."
   ]
  },
  {
   "cell_type": "code",
   "execution_count": 49,
   "metadata": {},
   "outputs": [
    {
     "data": {
      "text/plain": [
       "points\n",
       "0    60483\n",
       "7    19362\n",
       "3    13128\n",
       "Name: count, dtype: int64"
      ]
     },
     "execution_count": 49,
     "metadata": {},
     "output_type": "execute_result"
    }
   ],
   "source": [
    "# Define a function to convert drive results to points\n",
    "def result_to_points(result):\n",
    "    if result == 'Touchdown':\n",
    "        return 7\n",
    "    elif result == 'Field Goal':\n",
    "        return 3\n",
    "    else:\n",
    "        return 0\n",
    "\n",
    "# Apply the function to the 'result' column to create a new target variable\n",
    "data['points'] = data['result'].apply(result_to_points)\n",
    "\n",
    "# Display the distribution of the points column to verify\n",
    "data['points'].value_counts()"
   ]
  },
  {
   "cell_type": "markdown",
   "metadata": {},
   "source": [
    "## Preparing Data for Regression\n",
    "\n",
    "We'll modify the 'result' column in our dataset to reflect the number of points scored: converting 'Touchdown' results to 7 points, 'Field Goal' to 3 points, and all other outcomes to 0 points. Then, we'll prepare our data for regression."
   ]
  },
  {
   "cell_type": "code",
   "execution_count": 50,
   "metadata": {},
   "outputs": [],
   "source": [
    "# Define a function to convert drive results into points\n",
    "def result_to_points(result):\n",
    "    if result == 'Touchdown':\n",
    "        return 7\n",
    "    elif result == 'Field Goal':\n",
    "        return 3\n",
    "    else:\n",
    "        return 0\n",
    "\n",
    "# Apply the function to the 'result' column\n",
    "data['points'] = data['result'].apply(result_to_points)\n",
    "\n",
    "# Select features for the regression model\n",
    "features = data[['total_off_pen', 'total_def_pen', 'total_off_pen_yards', 'total_def_pen_yards', 'los', 'time_left_seconds']]\n",
    "target = data['points']\n",
    "\n",
    "# Split data into train and test sets for regression\n",
    "X_train_reg, X_test_reg, y_train_reg, y_test_reg = train_test_split(features, target, test_size=0.3, random_state=42)"
   ]
  },
  {
   "cell_type": "markdown",
   "metadata": {},
   "source": [
    "## Gradient Boosting Regression Model\n",
    "\n",
    "Now we'll configure and train a Gradient Boosting Machine (GBM) to predict the number of points scored at the end of each drive based on the specified inputs."
   ]
  },
  {
   "cell_type": "code",
   "execution_count": 51,
   "metadata": {},
   "outputs": [
    {
     "name": "stdout",
     "output_type": "stream",
     "text": [
      "Mean Squared Error: 6.88506327387569\n",
      "R^2 Score: 0.13576086162277534\n"
     ]
    }
   ],
   "source": [
    "from sklearn.ensemble import GradientBoostingRegressor\n",
    "from sklearn.metrics import mean_squared_error, r2_score\n",
    "\n",
    "# Initialize the Gradient Boosting Regressor\n",
    "gbm_regressor = GradientBoostingRegressor(n_estimators=100, learning_rate=0.1, max_depth=3, random_state=42)\n",
    "\n",
    "# Train the regressor\n",
    "gbm_regressor.fit(X_train_reg, y_train_reg)\n",
    "\n",
    "# Predicting the test set results\n",
    "y_pred_reg = gbm_regressor.predict(X_test_reg)\n",
    "\n",
    "# Evaluate the regression model\n",
    "mse = mean_squared_error(y_test_reg, y_pred_reg)\n",
    "r2 = r2_score(y_test_reg, y_pred_reg)\n",
    "print(\"Mean Squared Error:\", mse)\n",
    "print(\"R^2 Score:\", r2)"
   ]
  },
  {
   "cell_type": "markdown",
   "metadata": {},
   "source": [
    "## Prediction Function for Regression\n",
    "\n",
    "We also create a function to predict the number of points based on the input features for the regression model."
   ]
  },
  {
   "cell_type": "code",
   "execution_count": 62,
   "metadata": {},
   "outputs": [
    {
     "name": "stdout",
     "output_type": "stream",
     "text": [
      "Predicted Points: 5.046858987798735\n"
     ]
    }
   ],
   "source": [
    "def predict_points(total_off_pen, total_def_pen, total_off_pen_yards, total_def_pen_yards, los, time_left_seconds):\n",
    "    input_features = pd.DataFrame([{\n",
    "        'total_off_pen': total_off_pen, \n",
    "        'total_def_pen': total_def_pen, \n",
    "        'total_off_pen_yards': total_off_pen_yards, \n",
    "        'total_def_pen_yards': total_def_pen_yards, \n",
    "        'los': los, \n",
    "        'time_left_seconds': time_left_seconds\n",
    "    }])\n",
    "    predicted_points = gbm_regressor.predict(input_features)\n",
    "    return predicted_points[0]\n",
    "\n",
    "# Example usage of the prediction function for regression\n",
    "points = predict_points(0, 3, 0, 30, 25, 800)\n",
    "print(f\"Predicted Points: {points}\")"
   ]
  }
 ],
 "metadata": {
  "kernelspec": {
   "display_name": "Python 3",
   "language": "python",
   "name": "python3"
  },
  "language_info": {
   "codemirror_mode": {
    "name": "ipython",
    "version": 3
   },
   "file_extension": ".py",
   "mimetype": "text/x-python",
   "name": "python",
   "nbconvert_exporter": "python",
   "pygments_lexer": "ipython3",
   "version": "3.11.2"
  }
 },
 "nbformat": 4,
 "nbformat_minor": 2
}
