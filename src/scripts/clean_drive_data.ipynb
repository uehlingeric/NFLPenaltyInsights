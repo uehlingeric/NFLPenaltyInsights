{
 "cells": [
  {
   "cell_type": "markdown",
   "id": "648c29bc",
   "metadata": {},
   "source": [
    "### Imports"
   ]
  },
  {
   "cell_type": "code",
   "execution_count": 1,
   "id": "09415bbf",
   "metadata": {},
   "outputs": [],
   "source": [
    "import numpy as np\n",
    "import pandas"
   ]
  },
  {
   "cell_type": "markdown",
   "id": "86ec3b69",
   "metadata": {},
   "source": [
    "### Script"
   ]
  },
  {
   "cell_type": "code",
   "execution_count": 2,
   "id": "94cd60dd",
   "metadata": {},
   "outputs": [],
   "source": [
    "drives_df = pandas.read_csv(\"../../data/raw/drives.csv\")"
   ]
  },
  {
   "cell_type": "code",
   "execution_count": 3,
   "id": "dc5dcff9",
   "metadata": {},
   "outputs": [],
   "source": [
    "# Leo DiPerna (dipernalz)\n",
    "# game time data cleaning\n",
    "\n",
    "# fill in missing quarters and convert column type to int\n",
    "for i in range(len(drives_df)):\n",
    "    if np.isnan(drives_df.loc[i, 'quarter']):\n",
    "        drives_df.loc[i, 'quarter'] = drives_df.loc[i - 1, 'quarter']\n",
    "drives_df['quarter'] = drives_df['quarter'].astype(int)\n",
    "\n",
    "# add time_left column, which is game time left in seconds\n",
    "# time_left is negative if game goes to overtime\n",
    "drives_df = drives_df.assign(time_left = 0)\n",
    "for i in range(len(drives_df)):\n",
    "    mins, secs = drives_df.loc[i, 'time'].split(':')\n",
    "    drives_df.loc[i, 'time_left'] = 60*(60 - 15*(drives_df.loc[i, 'quarter'])) + 60*int(mins) + int(secs)"
   ]
  },
  {
   "cell_type": "code",
   "execution_count": 4,
   "id": "859e8dd6",
   "metadata": {},
   "outputs": [],
   "source": [
    "# yard line data cleaning\n",
    "\n",
    "drives_df = drives_df.assign(yard_line = 0)\n",
    "for i, current_row in drives_df.iterrows():\n",
    "    team_id = list()\n",
    "    \n",
    "    los = current_row['los']\n",
    "    team_id.append(str(current_row['team_id']))\n",
    "    \n",
    "    if ('KC' in team_id):\n",
    "        team_id.append('KAN')\n",
    "    elif ('NO' in team_id):\n",
    "        team_id.append('NOR')\n",
    "    elif ('TB' in team_id):\n",
    "        team_id.append('TAM')\n",
    "    elif ('SF' in team_id):\n",
    "        team_id.append('SFO')\n",
    "    elif ('LAR' in team_id):\n",
    "        team_id.append('STL')\n",
    "    elif ('GB' in team_id):\n",
    "        team_id.append('GNB')\n",
    "    elif ('NE' in team_id):\n",
    "        team_id.append('NWE')\n",
    "    elif ('LV' in team_id):\n",
    "        team_id.append('OAK')\n",
    "    elif ('LAC' in team_id):\n",
    "        team_id.append('SDG')\n",
    "    \n",
    "    if pandas.isna(los):\n",
    "        drives_df.loc[i, 'yard_line'] = 0\n",
    "    else:\n",
    "        los_team_id, los_yards = los.split()\n",
    "        if (los_team_id in team_id):\n",
    "            drives_df.loc[i, 'yard_line'] = int(los_yards)\n",
    "        elif (los_team_id not in team_id):\n",
    "            drives_df.loc[i, 'yard_line'] = 100 - int(los_yards)   \n",
    "    team_id.clear()"
   ]
  },
  {
   "cell_type": "code",
   "execution_count": 5,
   "id": "b627a690",
   "metadata": {},
   "outputs": [],
   "source": [
    "drives_df.to_csv(\"p_drives.csv\", index = False)"
   ]
  }
 ],
 "metadata": {
  "kernelspec": {
   "display_name": "Python 3 (ipykernel)",
   "language": "python",
   "name": "python3"
  },
  "language_info": {
   "codemirror_mode": {
    "name": "ipython",
    "version": 3
   },
   "file_extension": ".py",
   "mimetype": "text/x-python",
   "name": "python",
   "nbconvert_exporter": "python",
   "pygments_lexer": "ipython3",
   "version": "3.11.5"
  }
 },
 "nbformat": 4,
 "nbformat_minor": 5
}
